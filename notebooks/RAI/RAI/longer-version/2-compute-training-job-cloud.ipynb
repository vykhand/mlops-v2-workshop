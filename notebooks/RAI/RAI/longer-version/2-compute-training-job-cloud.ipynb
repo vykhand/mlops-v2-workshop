{
  "cells": [
    {
      "cell_type": "code",
      "source": [
        "!pip install -r lib/requirements.txt"
      ],
      "outputs": [
        {
          "output_type": "stream",
          "name": "stdout",
          "text": "Defaulting to user installation because normal site-packages is not writeable\nRequirement already satisfied: azure-common in /anaconda/envs/azureml_py38/lib/python3.8/site-packages (from -r lib/requirements.txt (line 1)) (1.1.28)\nRequirement already satisfied: azure-ai-ml==0.1.0b7 in /home/azureuser/.local/lib/python3.8/site-packages (from -r lib/requirements.txt (line 2)) (0.1.0b7)\nRequirement already satisfied: mlflow in /home/azureuser/.local/lib/python3.8/site-packages (from -r lib/requirements.txt (line 3)) (2.3.0)\nRequirement already satisfied: azureml-mlflow in /anaconda/envs/azureml_py38/lib/python3.8/site-packages (from -r lib/requirements.txt (line 4)) (1.49.0)\nRequirement already satisfied: mltable==0.1.0b4 in /home/azureuser/.local/lib/python3.8/site-packages (from -r lib/requirements.txt (line 5)) (0.1.0b4)\nRequirement already satisfied: azureml_dataprep in /anaconda/envs/azureml_py38/lib/python3.8/site-packages (from -r lib/requirements.txt (line 6)) (4.9.1)\nRequirement already satisfied: azureml_dataprep_rslex in /anaconda/envs/azureml_py38/lib/python3.8/site-packages (from -r lib/requirements.txt (line 7)) (2.16.1)\nRequirement already satisfied: responsibleai in /anaconda/envs/azureml_py38/lib/python3.8/site-packages (from -r lib/requirements.txt (line 8)) (0.24.0)\nRequirement already satisfied: raiwidgets in /anaconda/envs/azureml_py38/lib/python3.8/site-packages (from -r lib/requirements.txt (line 9)) (0.24.0)\nRequirement already satisfied: pandas in /anaconda/envs/azureml_py38/lib/python3.8/site-packages (from -r lib/requirements.txt (line 10)) (1.1.5)\nRequirement already satisfied: numpy in /anaconda/envs/azureml_py38/lib/python3.8/site-packages (from -r lib/requirements.txt (line 11)) (1.21.6)\nRequirement already satisfied: sklearn in /home/azureuser/.local/lib/python3.8/site-packages (from -r lib/requirements.txt (line 12)) (0.0.post4)\nRequirement already satisfied: pyarrow in /anaconda/envs/azureml_py38/lib/python3.8/site-packages (from -r lib/requirements.txt (line 13)) (9.0.0)\nRequirement already satisfied: shap in /anaconda/envs/azureml_py38/lib/python3.8/site-packages (from -r lib/requirements.txt (line 14)) (0.39.0)\nRequirement already satisfied: colorama<=0.4.4 in /home/azureuser/.local/lib/python3.8/site-packages (from azure-ai-ml==0.1.0b7->-r lib/requirements.txt (line 2)) (0.4.4)\nRequirement already satisfied: applicationinsights<=0.11.10 in /anaconda/envs/azureml_py38/lib/python3.8/site-packages (from azure-ai-ml==0.1.0b7->-r lib/requirements.txt (line 2)) (0.11.10)\nRequirement already satisfied: pathspec==0.9.* in /home/azureuser/.local/lib/python3.8/site-packages (from azure-ai-ml==0.1.0b7->-r lib/requirements.txt (line 2)) (0.9.0)\nRequirement already satisfied: isodate in /anaconda/envs/azureml_py38/lib/python3.8/site-packages (from azure-ai-ml==0.1.0b7->-r lib/requirements.txt (line 2)) (0.6.1)\nRequirement already satisfied: marshmallow<4.0.0,>=3.5 in /home/azureuser/.local/lib/python3.8/site-packages (from azure-ai-ml==0.1.0b7->-r lib/requirements.txt (line 2)) (3.19.0)\nRequirement already satisfied: msrest>=0.6.18 in /anaconda/envs/azureml_py38/lib/python3.8/site-packages (from azure-ai-ml==0.1.0b7->-r lib/requirements.txt (line 2)) (0.7.1)\nRequirement already satisfied: docker in /anaconda/envs/azureml_py38/lib/python3.8/site-packages (from azure-ai-ml==0.1.0b7->-r lib/requirements.txt (line 2)) (6.0.1)\nRequirement already satisfied: tqdm<=4.63.0 in /home/azureuser/.local/lib/python3.8/site-packages (from azure-ai-ml==0.1.0b7->-r lib/requirements.txt (line 2)) (4.63.0)\nRequirement already satisfied: pydash<=4.9.0 in /home/azureuser/.local/lib/python3.8/site-packages (from azure-ai-ml==0.1.0b7->-r lib/requirements.txt (line 2)) (4.9.0)\nRequirement already satisfied: pyyaml<7.0.0,>=5.1.0 in /anaconda/envs/azureml_py38/lib/python3.8/site-packages (from azure-ai-ml==0.1.0b7->-r lib/requirements.txt (line 2)) (6.0)\nRequirement already satisfied: jsonschema<5.0.0,>=4.0.0 in /anaconda/envs/azureml_py38/lib/python3.8/site-packages (from azure-ai-ml==0.1.0b7->-r lib/requirements.txt (line 2)) (4.17.3)\nRequirement already satisfied: strictyaml<=1.6.1 in /home/azureuser/.local/lib/python3.8/site-packages (from azure-ai-ml==0.1.0b7->-r lib/requirements.txt (line 2)) (1.6.1)\nRequirement already satisfied: pyjwt<3.0.0 in /anaconda/envs/azureml_py38/lib/python3.8/site-packages (from azure-ai-ml==0.1.0b7->-r lib/requirements.txt (line 2)) (2.4.0)\nRequirement already satisfied: azure-mgmt-core<2.0.0,>=1.2.0 in /anaconda/envs/azureml_py38/lib/python3.8/site-packages (from azure-ai-ml==0.1.0b7->-r lib/requirements.txt (line 2)) (1.3.2)\nRequirement already satisfied: azure-storage-file-datalake<12.8.0 in /home/azureuser/.local/lib/python3.8/site-packages (from azure-ai-ml==0.1.0b7->-r lib/requirements.txt (line 2)) (12.7.0)\nRequirement already satisfied: typing-extensions>=4.0.1 in /anaconda/envs/azureml_py38/lib/python3.8/site-packages (from azure-ai-ml==0.1.0b7->-r lib/requirements.txt (line 2)) (4.4.0)\nRequirement already satisfied: azure-storage-file-share<12.9.0 in /home/azureuser/.local/lib/python3.8/site-packages (from azure-ai-ml==0.1.0b7->-r lib/requirements.txt (line 2)) (12.8.0)\nRequirement already satisfied: azure-core!=1.22.0,<2.0.0,>=1.8.0 in /anaconda/envs/azureml_py38/lib/python3.8/site-packages (from azure-ai-ml==0.1.0b7->-r lib/requirements.txt (line 2)) (1.26.3)\nRequirement already satisfied: azure-storage-blob<12.13.0,>=12.10.0 in /home/azureuser/.local/lib/python3.8/site-packages (from azure-ai-ml==0.1.0b7->-r lib/requirements.txt (line 2)) (12.12.0)\nRequirement already satisfied: click<9,>=7.0 in /anaconda/envs/azureml_py38/lib/python3.8/site-packages (from mlflow->-r lib/requirements.txt (line 3)) (8.1.3)\nRequirement already satisfied: cloudpickle<3 in /anaconda/envs/azureml_py38/lib/python3.8/site-packages (from mlflow->-r lib/requirements.txt (line 3)) (1.6.0)\nRequirement already satisfied: querystring-parser<2 in /home/azureuser/.local/lib/python3.8/site-packages (from mlflow->-r lib/requirements.txt (line 3)) (1.2.4)\nRequirement already satisfied: matplotlib<4 in /anaconda/envs/azureml_py38/lib/python3.8/site-packages (from mlflow->-r lib/requirements.txt (line 3)) (3.2.1)\nRequirement already satisfied: scipy<2 in /anaconda/envs/azureml_py38/lib/python3.8/site-packages (from mlflow->-r lib/requirements.txt (line 3)) (1.5.3)\nRequirement already satisfied: gunicorn<21; platform_system != \"Windows\" in /anaconda/envs/azureml_py38/lib/python3.8/site-packages (from mlflow->-r lib/requirements.txt (line 3)) (20.1.0)\nRequirement already satisfied: packaging<24 in /anaconda/envs/azureml_py38/lib/python3.8/site-packages (from mlflow->-r lib/requirements.txt (line 3)) (21.3)\nRequirement already satisfied: scikit-learn<2 in /anaconda/envs/azureml_py38/lib/python3.8/site-packages (from mlflow->-r lib/requirements.txt (line 3)) (0.22.1)\nRequirement already satisfied: Jinja2<4,>=2.11; platform_system != \"Windows\" in /anaconda/envs/azureml_py38/lib/python3.8/site-packages (from mlflow->-r lib/requirements.txt (line 3)) (2.11.2)\nRequirement already satisfied: Flask<3 in /anaconda/envs/azureml_py38/lib/python3.8/site-packages (from mlflow->-r lib/requirements.txt (line 3)) (2.2.2)\nRequirement already satisfied: databricks-cli<1,>=0.8.7 in /anaconda/envs/azureml_py38/lib/python3.8/site-packages (from mlflow->-r lib/requirements.txt (line 3)) (0.17.4)\nRequirement already satisfied: importlib-metadata!=4.7.0,<7,>=3.7.0 in /anaconda/envs/azureml_py38/lib/python3.8/site-packages (from mlflow->-r lib/requirements.txt (line 3)) (5.2.0)\nRequirement already satisfied: protobuf<5,>=3.12.0 in /anaconda/envs/azureml_py38/lib/python3.8/site-packages (from mlflow->-r lib/requirements.txt (line 3)) (3.20.1)\nRequirement already satisfied: sqlparse<1,>=0.4.0 in /anaconda/envs/azureml_py38/lib/python3.8/site-packages (from mlflow->-r lib/requirements.txt (line 3)) (0.4.3)\nRequirement already satisfied: sqlalchemy<3,>=1.4.0 in /home/azureuser/.local/lib/python3.8/site-packages (from mlflow->-r lib/requirements.txt (line 3)) (2.0.9)\nRequirement already satisfied: alembic!=1.10.0,<2 in /home/azureuser/.local/lib/python3.8/site-packages (from mlflow->-r lib/requirements.txt (line 3)) (1.10.3)\nRequirement already satisfied: gitpython<4,>=2.1.0 in /anaconda/envs/azureml_py38/lib/python3.8/site-packages (from mlflow->-r lib/requirements.txt (line 3)) (3.1.30)\nRequirement already satisfied: pytz<2024 in /anaconda/envs/azureml_py38/lib/python3.8/site-packages (from mlflow->-r lib/requirements.txt (line 3)) (2022.5)\nRequirement already satisfied: requests<3,>=2.17.3 in /anaconda/envs/azureml_py38/lib/python3.8/site-packages (from mlflow->-r lib/requirements.txt (line 3)) (2.28.2)\nRequirement already satisfied: markdown<4,>=3.3 in /anaconda/envs/azureml_py38/lib/python3.8/site-packages (from mlflow->-r lib/requirements.txt (line 3)) (3.4.3)\nRequirement already satisfied: entrypoints<1 in /anaconda/envs/azureml_py38/lib/python3.8/site-packages (from mlflow->-r lib/requirements.txt (line 3)) (0.4)\nRequirement already satisfied: cryptography in /anaconda/envs/azureml_py38/lib/python3.8/site-packages (from azureml-mlflow->-r lib/requirements.txt (line 4)) (38.0.4)\nRequirement already satisfied: python-dateutil<3.0.0,>=2.7.3 in /anaconda/envs/azureml_py38/lib/python3.8/site-packages (from azureml-mlflow->-r lib/requirements.txt (line 4)) (2.8.2)\nRequirement already satisfied: mlflow-skinny in /anaconda/envs/azureml_py38/lib/python3.8/site-packages (from azureml-mlflow->-r lib/requirements.txt (line 4)) (2.1.1)\nRequirement already satisfied: jsonpickle in /anaconda/envs/azureml_py38/lib/python3.8/site-packages (from azureml-mlflow->-r lib/requirements.txt (line 4)) (2.2.0)\nRequirement already satisfied: azure-identity in /anaconda/envs/azureml_py38/lib/python3.8/site-packages (from azureml-mlflow->-r lib/requirements.txt (line 4)) (1.7.0)\nRequirement already satisfied: azureml-core in /anaconda/envs/azureml_py38/lib/python3.8/site-packages (from mltable==0.1.0b4->-r lib/requirements.txt (line 5)) (1.49.0)\nRequirement already satisfied: azure-mgmt-storage~=19.1.0 in /home/azureuser/.local/lib/python3.8/site-packages (from mltable==0.1.0b4->-r lib/requirements.txt (line 5)) (19.1.0)\nRequirement already satisfied: dotnetcore2<4.0.0,>=3.0.0 in /anaconda/envs/azureml_py38/lib/python3.8/site-packages (from azureml_dataprep->-r lib/requirements.txt (line 6)) (3.1.23)\nRequirement already satisfied: azureml-dataprep-native<39.0.0,>=38.0.0 in /anaconda/envs/azureml_py38/lib/python3.8/site-packages (from azureml_dataprep->-r lib/requirements.txt (line 6)) (38.0.0)\nRequirement already satisfied: networkx<=2.5 in /anaconda/envs/azureml_py38/lib/python3.8/site-packages (from responsibleai->-r lib/requirements.txt (line 8)) (2.5)\nRequirement already satisfied: dice-ml<0.10,>=0.9 in /anaconda/envs/azureml_py38/lib/python3.8/site-packages (from responsibleai->-r lib/requirements.txt (line 8)) (0.9)\nRequirement already satisfied: semver~=2.13.0 in /anaconda/envs/azureml_py38/lib/python3.8/site-packages (from responsibleai->-r lib/requirements.txt (line 8)) (2.13.0)\nRequirement already satisfied: ipykernel<=6.6.0 in /home/azureuser/.local/lib/python3.8/site-packages (from responsibleai->-r lib/requirements.txt (line 8)) (6.6.0)\nRequirement already satisfied: interpret-community>=0.28.0 in /anaconda/envs/azureml_py38/lib/python3.8/site-packages (from responsibleai->-r lib/requirements.txt (line 8)) (0.28.0)\nRequirement already satisfied: markupsafe<2.1.0 in /anaconda/envs/azureml_py38/lib/python3.8/site-packages (from responsibleai->-r lib/requirements.txt (line 8)) (2.0.1)\nRequirement already satisfied: erroranalysis>=0.3.13 in /anaconda/envs/azureml_py38/lib/python3.8/site-packages (from responsibleai->-r lib/requirements.txt (line 8)) (0.4.1)\nRequirement already satisfied: numba<0.54.0 in /home/azureuser/.local/lib/python3.8/site-packages (from responsibleai->-r lib/requirements.txt (line 8)) (0.53.1)\nRequirement already satisfied: raiutils>=0.3.0 in /anaconda/envs/azureml_py38/lib/python3.8/site-packages (from responsibleai->-r lib/requirements.txt (line 8)) (0.3.0)\nRequirement already satisfied: econml>=0.14.0 in /anaconda/envs/azureml_py38/lib/python3.8/site-packages (from responsibleai->-r lib/requirements.txt (line 8)) (0.14.0)\nRequirement already satisfied: lightgbm>=2.0.11 in /anaconda/envs/azureml_py38/lib/python3.8/site-packages (from responsibleai->-r lib/requirements.txt (line 8)) (3.2.1)\nRequirement already satisfied: itsdangerous==2.0.1 in /home/azureuser/.local/lib/python3.8/site-packages (from raiwidgets->-r lib/requirements.txt (line 9)) (2.0.1)\nRequirement already satisfied: rai-core-flask==0.5.0 in /anaconda/envs/azureml_py38/lib/python3.8/site-packages (from raiwidgets->-r lib/requirements.txt (line 9)) (0.5.0)\nRequirement already satisfied: fairlearn>=0.7.0 in /anaconda/envs/azureml_py38/lib/python3.8/site-packages (from raiwidgets->-r lib/requirements.txt (line 9)) (0.8.0)\nRequirement already satisfied: slicer==0.0.7 in /anaconda/envs/azureml_py38/lib/python3.8/site-packages (from shap->-r lib/requirements.txt (line 14)) (0.0.7)\nRequirement already satisfied: six in /anaconda/envs/azureml_py38/lib/python3.8/site-packages (from isodate->azure-ai-ml==0.1.0b7->-r lib/requirements.txt (line 2)) (1.16.0)\nRequirement already satisfied: certifi>=2017.4.17 in /anaconda/envs/azureml_py38/lib/python3.8/site-packages (from msrest>=0.6.18->azure-ai-ml==0.1.0b7->-r lib/requirements.txt (line 2)) (2022.9.24)\nRequirement already satisfied: requests-oauthlib>=0.5.0 in /anaconda/envs/azureml_py38/lib/python3.8/site-packages (from msrest>=0.6.18->azure-ai-ml==0.1.0b7->-r lib/requirements.txt (line 2)) (1.3.1)\nRequirement already satisfied: websocket-client>=0.32.0 in /anaconda/envs/azureml_py38/lib/python3.8/site-packages (from docker->azure-ai-ml==0.1.0b7->-r lib/requirements.txt (line 2)) (1.5.0)\nRequirement already satisfied: urllib3>=1.26.0 in /anaconda/envs/azureml_py38/lib/python3.8/site-packages (from docker->azure-ai-ml==0.1.0b7->-r lib/requirements.txt (line 2)) (1.26.14)\nRequirement already satisfied: pkgutil-resolve-name>=1.3.10; python_version < \"3.9\" in /anaconda/envs/azureml_py38/lib/python3.8/site-packages (from jsonschema<5.0.0,>=4.0.0->azure-ai-ml==0.1.0b7->-r lib/requirements.txt (line 2)) (1.3.10)\nRequirement already satisfied: pyrsistent!=0.17.0,!=0.17.1,!=0.17.2,>=0.14.0 in /anaconda/envs/azureml_py38/lib/python3.8/site-packages (from jsonschema<5.0.0,>=4.0.0->azure-ai-ml==0.1.0b7->-r lib/requirements.txt (line 2)) (0.19.3)\nRequirement already satisfied: importlib-resources>=1.4.0; python_version < \"3.9\" in /anaconda/envs/azureml_py38/lib/python3.8/site-packages (from jsonschema<5.0.0,>=4.0.0->azure-ai-ml==0.1.0b7->-r lib/requirements.txt (line 2)) (5.10.2)\nRequirement already satisfied: attrs>=17.4.0 in /anaconda/envs/azureml_py38/lib/python3.8/site-packages (from jsonschema<5.0.0,>=4.0.0->azure-ai-ml==0.1.0b7->-r lib/requirements.txt (line 2)) (22.2.0)\nRequirement already satisfied: kiwisolver>=1.0.1 in /anaconda/envs/azureml_py38/lib/python3.8/site-packages (from matplotlib<4->mlflow->-r lib/requirements.txt (line 3)) (1.4.4)\nRequirement already satisfied: pyparsing!=2.0.4,!=2.1.2,!=2.1.6,>=2.0.1 in /anaconda/envs/azureml_py38/lib/python3.8/site-packages (from matplotlib<4->mlflow->-r lib/requirements.txt (line 3)) (3.0.9)\nRequirement already satisfied: cycler>=0.10 in /anaconda/envs/azureml_py38/lib/python3.8/site-packages (from matplotlib<4->mlflow->-r lib/requirements.txt (line 3)) (0.11.0)\nRequirement already satisfied: setuptools>=3.0 in /anaconda/envs/azureml_py38/lib/python3.8/site-packages (from gunicorn<21; platform_system != \"Windows\"->mlflow->-r lib/requirements.txt (line 3)) (49.6.0)\nRequirement already satisfied: joblib>=0.11 in /anaconda/envs/azureml_py38/lib/python3.8/site-packages (from scikit-learn<2->mlflow->-r lib/requirements.txt (line 3)) (0.14.1)\nRequirement already satisfied: Werkzeug>=2.2.2 in /anaconda/envs/azureml_py38/lib/python3.8/site-packages (from Flask<3->mlflow->-r lib/requirements.txt (line 3)) (2.2.2)\nRequirement already satisfied: tabulate>=0.7.7 in /anaconda/envs/azureml_py38/lib/python3.8/site-packages (from databricks-cli<1,>=0.8.7->mlflow->-r lib/requirements.txt (line 3)) (0.9.0)\nRequirement already satisfied: oauthlib>=3.1.0 in /anaconda/envs/azureml_py38/lib/python3.8/site-packages (from databricks-cli<1,>=0.8.7->mlflow->-r lib/requirements.txt (line 3)) (3.2.2)\nRequirement already satisfied: zipp>=0.5 in /anaconda/envs/azureml_py38/lib/python3.8/site-packages (from importlib-metadata!=4.7.0,<7,>=3.7.0->mlflow->-r lib/requirements.txt (line 3)) (3.12.0)\nRequirement already satisfied: greenlet!=0.4.17; platform_machine == \"aarch64\" or (platform_machine == \"ppc64le\" or (platform_machine == \"x86_64\" or (platform_machine == \"amd64\" or (platform_machine == \"AMD64\" or (platform_machine == \"win32\" or platform_machine == \"WIN32\"))))) in /anaconda/envs/azureml_py38/lib/python3.8/site-packages (from sqlalchemy<3,>=1.4.0->mlflow->-r lib/requirements.txt (line 3)) (2.0.2)\nRequirement already satisfied: Mako in /home/azureuser/.local/lib/python3.8/site-packages (from alembic!=1.10.0,<2->mlflow->-r lib/requirements.txt (line 3)) (1.2.4)\nRequirement already satisfied: gitdb<5,>=4.0.1 in /anaconda/envs/azureml_py38/lib/python3.8/site-packages (from gitpython<4,>=2.1.0->mlflow->-r lib/requirements.txt (line 3)) (4.0.10)\nRequirement already satisfied: idna<4,>=2.5 in /anaconda/envs/azureml_py38/lib/python3.8/site-packages (from requests<3,>=2.17.3->mlflow->-r lib/requirements.txt (line 3)) (3.4)\nRequirement already satisfied: charset-normalizer<4,>=2 in /anaconda/envs/azureml_py38/lib/python3.8/site-packages (from requests<3,>=2.17.3->mlflow->-r lib/requirements.txt (line 3)) (3.0.1)\nRequirement already satisfied: cffi>=1.12 in /anaconda/envs/azureml_py38/lib/python3.8/site-packages (from cryptography->azureml-mlflow->-r lib/requirements.txt (line 4)) (1.15.1)\nRequirement already satisfied: msal-extensions~=0.3.0 in /anaconda/envs/azureml_py38/lib/python3.8/site-packages (from azure-identity->azureml-mlflow->-r lib/requirements.txt (line 4)) (0.3.1)\nRequirement already satisfied: msal<2.0.0,>=1.12.0 in /anaconda/envs/azureml_py38/lib/python3.8/site-packages (from azure-identity->azureml-mlflow->-r lib/requirements.txt (line 4)) (1.21.0)\nRequirement already satisfied: azure-graphrbac<1.0.0,>=0.40.0 in /anaconda/envs/azureml_py38/lib/python3.8/site-packages (from azureml-core->mltable==0.1.0b4->-r lib/requirements.txt (line 5)) (0.61.1)\nRequirement already satisfied: azure-mgmt-resource<22.0.0,>=15.0.0 in /anaconda/envs/azureml_py38/lib/python3.8/site-packages (from azureml-core->mltable==0.1.0b4->-r lib/requirements.txt (line 5)) (21.2.1)\nRequirement already satisfied: jmespath<2.0.0 in /anaconda/envs/azureml_py38/lib/python3.8/site-packages (from azureml-core->mltable==0.1.0b4->-r lib/requirements.txt (line 5)) (0.10.0)\nRequirement already satisfied: azure-mgmt-containerregistry<11,>=8.2.0 in /anaconda/envs/azureml_py38/lib/python3.8/site-packages (from azureml-core->mltable==0.1.0b4->-r lib/requirements.txt (line 5)) (10.0.0)\nRequirement already satisfied: azure-mgmt-authorization<4,>=0.40.0 in /anaconda/envs/azureml_py38/lib/python3.8/site-packages (from azureml-core->mltable==0.1.0b4->-r lib/requirements.txt (line 5)) (3.0.0)\nRequirement already satisfied: msrestazure<=0.6.4,>=0.4.33 in /anaconda/envs/azureml_py38/lib/python3.8/site-packages (from azureml-core->mltable==0.1.0b4->-r lib/requirements.txt (line 5)) (0.6.4)\nRequirement already satisfied: SecretStorage<4.0.0 in /anaconda/envs/azureml_py38/lib/python3.8/site-packages (from azureml-core->mltable==0.1.0b4->-r lib/requirements.txt (line 5)) (3.3.3)\nRequirement already satisfied: knack~=0.10.0 in /anaconda/envs/azureml_py38/lib/python3.8/site-packages (from azureml-core->mltable==0.1.0b4->-r lib/requirements.txt (line 5)) (0.10.1)\nRequirement already satisfied: pkginfo in /anaconda/envs/azureml_py38/lib/python3.8/site-packages (from azureml-core->mltable==0.1.0b4->-r lib/requirements.txt (line 5)) (1.9.6)\nRequirement already satisfied: pyopenssl<24.0.0 in /anaconda/envs/azureml_py38/lib/python3.8/site-packages (from azureml-core->mltable==0.1.0b4->-r lib/requirements.txt (line 5)) (23.0.0)\nRequirement already satisfied: humanfriendly<11.0,>=4.7 in /anaconda/envs/azureml_py38/lib/python3.8/site-packages (from azureml-core->mltable==0.1.0b4->-r lib/requirements.txt (line 5)) (10.0)\nRequirement already satisfied: azure-mgmt-keyvault<11.0.0,>=0.40.0 in /anaconda/envs/azureml_py38/lib/python3.8/site-packages (from azureml-core->mltable==0.1.0b4->-r lib/requirements.txt (line 5)) (10.1.0)\nRequirement already satisfied: ndg-httpsclient<=0.5.1 in /anaconda/envs/azureml_py38/lib/python3.8/site-packages (from azureml-core->mltable==0.1.0b4->-r lib/requirements.txt (line 5)) (0.5.1)\nRequirement already satisfied: backports.tempfile in /anaconda/envs/azureml_py38/lib/python3.8/site-packages (from azureml-core->mltable==0.1.0b4->-r lib/requirements.txt (line 5)) (1.0)\nRequirement already satisfied: contextlib2<22.0.0 in /anaconda/envs/azureml_py38/lib/python3.8/site-packages (from azureml-core->mltable==0.1.0b4->-r lib/requirements.txt (line 5)) (21.6.0)\nRequirement already satisfied: adal<=1.2.7,>=1.2.0 in /anaconda/envs/azureml_py38/lib/python3.8/site-packages (from azureml-core->mltable==0.1.0b4->-r lib/requirements.txt (line 5)) (1.2.7)\nRequirement already satisfied: argcomplete<3 in /anaconda/envs/azureml_py38/lib/python3.8/site-packages (from azureml-core->mltable==0.1.0b4->-r lib/requirements.txt (line 5)) (2.0.0)\nRequirement already satisfied: paramiko<3.0.0,>=2.0.8 in /anaconda/envs/azureml_py38/lib/python3.8/site-packages (from azureml-core->mltable==0.1.0b4->-r lib/requirements.txt (line 5)) (2.12.0)\nRequirement already satisfied: distro>=1.2.0 in /anaconda/envs/azureml_py38/lib/python3.8/site-packages (from dotnetcore2<4.0.0,>=3.0.0->azureml_dataprep->-r lib/requirements.txt (line 6)) (1.8.0)\nRequirement already satisfied: decorator>=4.3.0 in /anaconda/envs/azureml_py38/lib/python3.8/site-packages (from networkx<=2.5->responsibleai->-r lib/requirements.txt (line 8)) (5.1.1)\nRequirement already satisfied: h5py in /anaconda/envs/azureml_py38/lib/python3.8/site-packages (from dice-ml<0.10,>=0.9->responsibleai->-r lib/requirements.txt (line 8)) (3.8.0)\nRequirement already satisfied: ipython>=7.23.1 in /anaconda/envs/azureml_py38/lib/python3.8/site-packages (from ipykernel<=6.6.0->responsibleai->-r lib/requirements.txt (line 8)) (8.10.0)\nRequirement already satisfied: matplotlib-inline<0.2.0,>=0.1.0 in /anaconda/envs/azureml_py38/lib/python3.8/site-packages (from ipykernel<=6.6.0->responsibleai->-r lib/requirements.txt (line 8)) (0.1.6)\nRequirement already satisfied: traitlets<6.0,>=5.1.0 in /anaconda/envs/azureml_py38/lib/python3.8/site-packages (from ipykernel<=6.6.0->responsibleai->-r lib/requirements.txt (line 8)) (5.9.0)\nRequirement already satisfied: debugpy<2.0,>=1.0.0 in /anaconda/envs/azureml_py38/lib/python3.8/site-packages (from ipykernel<=6.6.0->responsibleai->-r lib/requirements.txt (line 8)) (1.6.6)\nRequirement already satisfied: tornado<7.0,>=4.2 in /anaconda/envs/azureml_py38/lib/python3.8/site-packages (from ipykernel<=6.6.0->responsibleai->-r lib/requirements.txt (line 8)) (6.2)\nRequirement already satisfied: jupyter-client<8.0 in /anaconda/envs/azureml_py38/lib/python3.8/site-packages (from ipykernel<=6.6.0->responsibleai->-r lib/requirements.txt (line 8)) (6.1.12)\nRequirement already satisfied: ml-wrappers~=0.4.2 in /anaconda/envs/azureml_py38/lib/python3.8/site-packages (from interpret-community>=0.28.0->responsibleai->-r lib/requirements.txt (line 8)) (0.4.2)\nRequirement already satisfied: interpret-core[required]<=0.2.7,>=0.1.20 in /anaconda/envs/azureml_py38/lib/python3.8/site-packages (from interpret-community>=0.28.0->responsibleai->-r lib/requirements.txt (line 8)) (0.2.7)\nRequirement already satisfied: llvmlite<0.37,>=0.36.0rc1 in /home/azureuser/.local/lib/python3.8/site-packages (from numba<0.54.0->responsibleai->-r lib/requirements.txt (line 8)) (0.36.0)\nRequirement already satisfied: statsmodels>=0.10 in /anaconda/envs/azureml_py38/lib/python3.8/site-packages (from econml>=0.14.0->responsibleai->-r lib/requirements.txt (line 8)) (0.11.0)\nRequirement already satisfied: sparse in /anaconda/envs/azureml_py38/lib/python3.8/site-packages (from econml>=0.14.0->responsibleai->-r lib/requirements.txt (line 8)) (0.13.0)\nRequirement already satisfied: wheel in /anaconda/envs/azureml_py38/lib/python3.8/site-packages (from lightgbm>=2.0.11->responsibleai->-r lib/requirements.txt (line 8)) (0.37.1)\nRequirement already satisfied: gevent>=21.12.0 in /home/azureuser/.local/lib/python3.8/site-packages (from rai-core-flask==0.5.0->raiwidgets->-r lib/requirements.txt (line 9)) (22.10.2)\nRequirement already satisfied: Flask-Cors in /anaconda/envs/azureml_py38/lib/python3.8/site-packages (from rai-core-flask==0.5.0->raiwidgets->-r lib/requirements.txt (line 9)) (3.0.10)\nRequirement already satisfied: smmap<6,>=3.0.1 in /anaconda/envs/azureml_py38/lib/python3.8/site-packages (from gitdb<5,>=4.0.1->gitpython<4,>=2.1.0->mlflow->-r lib/requirements.txt (line 3)) (5.0.0)\nRequirement already satisfied: pycparser in /anaconda/envs/azureml_py38/lib/python3.8/site-packages (from cffi>=1.12->cryptography->azureml-mlflow->-r lib/requirements.txt (line 4)) (2.21)\nRequirement already satisfied: portalocker<3,>=1.0; python_version >= \"3.5\" and platform_system != \"Windows\" in /anaconda/envs/azureml_py38/lib/python3.8/site-packages (from msal-extensions~=0.3.0->azure-identity->azureml-mlflow->-r lib/requirements.txt (line 4)) (2.7.0)\nRequirement already satisfied: jeepney>=0.6 in /anaconda/envs/azureml_py38/lib/python3.8/site-packages (from SecretStorage<4.0.0->azureml-core->mltable==0.1.0b4->-r lib/requirements.txt (line 5)) (0.8.0)\nRequirement already satisfied: pygments in /anaconda/envs/azureml_py38/lib/python3.8/site-packages (from knack~=0.10.0->azureml-core->mltable==0.1.0b4->-r lib/requirements.txt (line 5)) (2.14.0)\nRequirement already satisfied: pyasn1>=0.1.1 in /anaconda/envs/azureml_py38/lib/python3.8/site-packages (from ndg-httpsclient<=0.5.1->azureml-core->mltable==0.1.0b4->-r lib/requirements.txt (line 5)) (0.4.8)\nRequirement already satisfied: backports.weakref in /anaconda/envs/azureml_py38/lib/python3.8/site-packages (from backports.tempfile->azureml-core->mltable==0.1.0b4->-r lib/requirements.txt (line 5)) (1.0.post1)\nRequirement already satisfied: bcrypt>=3.1.3 in /anaconda/envs/azureml_py38/lib/python3.8/site-packages (from paramiko<3.0.0,>=2.0.8->azureml-core->mltable==0.1.0b4->-r lib/requirements.txt (line 5)) (4.0.1)\nRequirement already satisfied: pynacl>=1.0.1 in /anaconda/envs/azureml_py38/lib/python3.8/site-packages (from paramiko<3.0.0,>=2.0.8->azureml-core->mltable==0.1.0b4->-r lib/requirements.txt (line 5)) (1.5.0)\nRequirement already satisfied: jedi>=0.16 in /anaconda/envs/azureml_py38/lib/python3.8/site-packages (from ipython>=7.23.1->ipykernel<=6.6.0->responsibleai->-r lib/requirements.txt (line 8)) (0.18.0)\nRequirement already satisfied: stack-data in /anaconda/envs/azureml_py38/lib/python3.8/site-packages (from ipython>=7.23.1->ipykernel<=6.6.0->responsibleai->-r lib/requirements.txt (line 8)) (0.6.2)\nRequirement already satisfied: backcall in /anaconda/envs/azureml_py38/lib/python3.8/site-packages (from ipython>=7.23.1->ipykernel<=6.6.0->responsibleai->-r lib/requirements.txt (line 8)) (0.2.0)\nRequirement already satisfied: pickleshare in /anaconda/envs/azureml_py38/lib/python3.8/site-packages (from ipython>=7.23.1->ipykernel<=6.6.0->responsibleai->-r lib/requirements.txt (line 8)) (0.7.5)\nRequirement already satisfied: pexpect>4.3; sys_platform != \"win32\" in /anaconda/envs/azureml_py38/lib/python3.8/site-packages (from ipython>=7.23.1->ipykernel<=6.6.0->responsibleai->-r lib/requirements.txt (line 8)) (4.8.0)\nRequirement already satisfied: prompt-toolkit<3.1.0,>=3.0.30 in /anaconda/envs/azureml_py38/lib/python3.8/site-packages (from ipython>=7.23.1->ipykernel<=6.6.0->responsibleai->-r lib/requirements.txt (line 8)) (3.0.30)\nRequirement already satisfied: pyzmq>=13 in /anaconda/envs/azureml_py38/lib/python3.8/site-packages (from jupyter-client<8.0->ipykernel<=6.6.0->responsibleai->-r lib/requirements.txt (line 8)) (25.0.0)\nRequirement already satisfied: jupyter-core>=4.6.0 in /anaconda/envs/azureml_py38/lib/python3.8/site-packages (from jupyter-client<8.0->ipykernel<=6.6.0->responsibleai->-r lib/requirements.txt (line 8)) (5.2.0)\nRequirement already satisfied: patsy>=0.5 in /anaconda/envs/azureml_py38/lib/python3.8/site-packages (from statsmodels>=0.10->econml>=0.14.0->responsibleai->-r lib/requirements.txt (line 8)) (0.5.3)\nRequirement already satisfied: zope.interface in /anaconda/envs/azureml_py38/lib/python3.8/site-packages (from gevent>=21.12.0->rai-core-flask==0.5.0->raiwidgets->-r lib/requirements.txt (line 9)) (6.0)\nRequirement already satisfied: zope.event in /anaconda/envs/azureml_py38/lib/python3.8/site-packages (from gevent>=21.12.0->rai-core-flask==0.5.0->raiwidgets->-r lib/requirements.txt (line 9)) (4.6)\nRequirement already satisfied: parso<0.9.0,>=0.8.0 in /anaconda/envs/azureml_py38/lib/python3.8/site-packages (from jedi>=0.16->ipython>=7.23.1->ipykernel<=6.6.0->responsibleai->-r lib/requirements.txt (line 8)) (0.8.3)\nRequirement already satisfied: asttokens>=2.1.0 in /anaconda/envs/azureml_py38/lib/python3.8/site-packages (from stack-data->ipython>=7.23.1->ipykernel<=6.6.0->responsibleai->-r lib/requirements.txt (line 8)) (2.2.1)\nRequirement already satisfied: pure-eval in /anaconda/envs/azureml_py38/lib/python3.8/site-packages (from stack-data->ipython>=7.23.1->ipykernel<=6.6.0->responsibleai->-r lib/requirements.txt (line 8)) (0.2.2)\nRequirement already satisfied: executing>=1.2.0 in /anaconda/envs/azureml_py38/lib/python3.8/site-packages (from stack-data->ipython>=7.23.1->ipykernel<=6.6.0->responsibleai->-r lib/requirements.txt (line 8)) (1.2.0)\nRequirement already satisfied: ptyprocess>=0.5 in /anaconda/envs/azureml_py38/lib/python3.8/site-packages (from pexpect>4.3; sys_platform != \"win32\"->ipython>=7.23.1->ipykernel<=6.6.0->responsibleai->-r lib/requirements.txt (line 8)) (0.7.0)\nRequirement already satisfied: wcwidth in /anaconda/envs/azureml_py38/lib/python3.8/site-packages (from prompt-toolkit<3.1.0,>=3.0.30->ipython>=7.23.1->ipykernel<=6.6.0->responsibleai->-r lib/requirements.txt (line 8)) (0.2.6)\nRequirement already satisfied: platformdirs>=2.5 in /anaconda/envs/azureml_py38/lib/python3.8/site-packages (from jupyter-core>=4.6.0->jupyter-client<8.0->ipykernel<=6.6.0->responsibleai->-r lib/requirements.txt (line 8)) (3.0.0)\n"
        }
      ],
      "execution_count": 1,
      "metadata": {
        "gather": {
          "logged": 1681965419509
        },
        "jupyter": {
          "outputs_hidden": false,
          "source_hidden": false
        },
        "nteract": {
          "transient": {
            "deleting": false
          }
        }
      }
    },
    {
      "cell_type": "code",
      "source": [
        "import warnings\n",
        "warnings.filterwarnings(\"ignore\")"
      ],
      "outputs": [],
      "execution_count": 2,
      "metadata": {
        "gather": {
          "logged": 1682024273189
        }
      }
    },
    {
      "cell_type": "code",
      "source": [
        "import pandas as pd\n",
        "import sklearn\n",
        "import zipfile\n",
        "from sklearn.model_selection import train_test_split\n",
        "from sklearn.linear_model import LogisticRegression\n",
        "from sklearn.ensemble import RandomForestRegressor"
      ],
      "outputs": [],
      "execution_count": 3,
      "metadata": {
        "gather": {
          "logged": 1682024273660
        },
        "scrolled": true
      }
    },
    {
      "cell_type": "code",
      "source": [
        "from azure.ai.ml import MLClient\n",
        "from azure.identity import DefaultAzureCredential\n",
        "from azure.ai.ml.entities import Environment, BuildContext\n",
        "from azureml.mlflow import register_model\n",
        "import mlflow\n",
        "import pandas as pd\n",
        "\n",
        "subscription_id = \"<SUBSCRIPTION_ID>\"\n",
        "resource_group = \"<RESOURCE_GROUP>\"\n",
        "workspace = \"<AML_WORKSPACE_NAME>\"\n",
        "\n",
        "#connect to the workspace\n",
        "registry_name = \"azureml\"\n",
        "ml_client = MLClient(DefaultAzureCredential(), subscription_id, resource_group, workspace)"
      ],
      "outputs": [],
      "execution_count": 4,
      "metadata": {
        "gather": {
          "logged": 1682024274665
        }
      }
    },
    {
      "cell_type": "code",
      "source": [
        "rai_hospital_version_string = '1'\r\n",
        "version='1'"
      ],
      "outputs": [],
      "execution_count": 5,
      "metadata": {
        "jupyter": {
          "source_hidden": false,
          "outputs_hidden": false
        },
        "nteract": {
          "transient": {
            "deleting": false
          }
        },
        "gather": {
          "logged": 1682024275394
        }
      }
    },
    {
      "cell_type": "code",
      "source": [
        "compute_name = \"trainingcompute\""
      ],
      "outputs": [],
      "execution_count": 6,
      "metadata": {
        "gather": {
          "logged": 1682024276006
        },
        "jupyter": {
          "outputs_hidden": false,
          "source_hidden": false
        },
        "nteract": {
          "transient": {
            "deleting": false
          }
        }
      }
    },
    {
      "cell_type": "code",
      "source": [
        "from azure.ai.ml.entities import AmlCompute\n",
        "\n",
        "all_compute_names = [x.name for x in ml_client.compute.list()]\n",
        "\n",
        "if compute_name in all_compute_names:\n",
        "    print(f\"Found existing compute: {compute_name}\")\n",
        "else:\n",
        "    my_compute = AmlCompute(\n",
        "        name=compute_name,\n",
        "        size=\"Standard_DS2_v2\",\n",
        "        min_instances=0,\n",
        "        max_instances=4,\n",
        "        idle_time_before_scale_down=3600\n",
        "    )\n",
        "    ml_client.compute.begin_create_or_update(my_compute)\n",
        "    print(\"Initiated compute creation\")"
      ],
      "outputs": [
        {
          "output_type": "stream",
          "name": "stdout",
          "text": "Found existing compute: trainingcompute\n"
        }
      ],
      "execution_count": 7,
      "metadata": {
        "gather": {
          "logged": 1682024276497
        },
        "jupyter": {
          "outputs_hidden": false,
          "source_hidden": false
        },
        "nteract": {
          "transient": {
            "deleting": false
          }
        }
      }
    },
    {
      "cell_type": "code",
      "source": [
        "train_data = pd.read_parquet('data/training_data.parquet')\n",
        "test_data = pd.read_parquet('data/testing_data.parquet')"
      ],
      "outputs": [],
      "execution_count": 8,
      "metadata": {
        "gather": {
          "logged": 1682024277035
        },
        "jupyter": {
          "outputs_hidden": false,
          "source_hidden": false
        },
        "nteract": {
          "transient": {
            "deleting": false
          }
        }
      }
    },
    {
      "cell_type": "code",
      "source": [
        "target_column = \"readmit_status\""
      ],
      "outputs": [],
      "execution_count": 9,
      "metadata": {
        "gather": {
          "logged": 1682024277495
        },
        "jupyter": {
          "outputs_hidden": false,
          "source_hidden": false
        },
        "nteract": {
          "transient": {
            "deleting": false
          }
        }
      }
    },
    {
      "cell_type": "code",
      "source": [
        "display(train_data)"
      ],
      "outputs": [
        {
          "output_type": "display_data",
          "data": {
            "text/plain": "                  race  gender            age discharge_destination  \\\n39348        Caucasian    Male  Over 60 years    Discharged to Home   \n52111        Caucasian    Male  Over 60 years                 Other   \n42567        Caucasian    Male  Over 60 years                 Other   \n55713  AfricanAmerican    Male  Over 60 years    Discharged to Home   \n60066            Other  Female    30-60 years    Discharged to Home   \n...                ...     ...            ...                   ...   \n35764        Caucasian  Female  Over 60 years    Discharged to Home   \n46719        Caucasian  Female  Over 60 years    Discharged to Home   \n73613        Caucasian    Male  Over 60 years                 Other   \n56143  AfricanAmerican    Male  Over 60 years    Discharged to Home   \n80721        Caucasian  Female    30-60 years    Discharged to Home   \n\n      admission_source  time_in_hospital  num_lab_procedures  num_procedures  \\\n39348            Other                 1                  18               1   \n52111            Other                 5                  29               3   \n42567            Other                 7                  50               1   \n55713            Other                 3                  46               2   \n60066            Other                 3                   1               0   \n...                ...               ...                 ...             ...   \n35764            Other                 2                  64               0   \n46719            Other                 7                  65               0   \n73613            Other                10                  50               0   \n56143            Other                 2                  31               0   \n80721            Other                 2                  27               1   \n\n       num_medications  prior_outpatient  ...  prior_inpatient  \\\n39348               12                 0  ...                1   \n52111               21                 1  ...                0   \n42567               15                 0  ...                0   \n55713               18                 0  ...                1   \n60066                4                 1  ...                1   \n...                ...               ...  ...              ...   \n35764               10                 0  ...                1   \n46719               19                 0  ...                0   \n73613               25                 0  ...                0   \n56143               10                 0  ...                0   \n80721               35                 0  ...                0   \n\n       primary_diagnosis number_diagnoses  max_glu_serum A1Cresult insulin  \\\n39348              Other                9           None      None      No   \n52111              Other                9           None      None  Steady   \n42567   Respitory Issues                8           None      None    Down   \n55713   Respitory Issues                9           None      None  Steady   \n60066              Other                6           None      None      No   \n...                  ...              ...            ...       ...     ...   \n35764   Respitory Issues                5           None      Norm  Steady   \n46719              Other                9           None      None      No   \n73613              Other                8           None      None      No   \n56143              Other                8           None      None  Steady   \n80721           Diabetes                7           None        >8  Steady   \n\n      diabetes_Med_prescribe  readmit_status medicare  medicaid  \n39348                     No  not readmitted    False     False  \n52111                    Yes  not readmitted     True     False  \n42567                    Yes  not readmitted     True     False  \n55713                    Yes  not readmitted     True     False  \n60066                    Yes      readmitted    False     False  \n...                      ...             ...      ...       ...  \n35764                    Yes  not readmitted    False     False  \n46719                     No  not readmitted     True     False  \n73613                    Yes  not readmitted     True     False  \n56143                    Yes      readmitted     True     False  \n80721                    Yes  not readmitted    False     False  \n\n[2788 rows x 21 columns]",
            "text/html": "<div>\n<style scoped>\n    .dataframe tbody tr th:only-of-type {\n        vertical-align: middle;\n    }\n\n    .dataframe tbody tr th {\n        vertical-align: top;\n    }\n\n    .dataframe thead th {\n        text-align: right;\n    }\n</style>\n<table border=\"1\" class=\"dataframe\">\n  <thead>\n    <tr style=\"text-align: right;\">\n      <th></th>\n      <th>race</th>\n      <th>gender</th>\n      <th>age</th>\n      <th>discharge_destination</th>\n      <th>admission_source</th>\n      <th>time_in_hospital</th>\n      <th>num_lab_procedures</th>\n      <th>num_procedures</th>\n      <th>num_medications</th>\n      <th>prior_outpatient</th>\n      <th>...</th>\n      <th>prior_inpatient</th>\n      <th>primary_diagnosis</th>\n      <th>number_diagnoses</th>\n      <th>max_glu_serum</th>\n      <th>A1Cresult</th>\n      <th>insulin</th>\n      <th>diabetes_Med_prescribe</th>\n      <th>readmit_status</th>\n      <th>medicare</th>\n      <th>medicaid</th>\n    </tr>\n  </thead>\n  <tbody>\n    <tr>\n      <th>39348</th>\n      <td>Caucasian</td>\n      <td>Male</td>\n      <td>Over 60 years</td>\n      <td>Discharged to Home</td>\n      <td>Other</td>\n      <td>1</td>\n      <td>18</td>\n      <td>1</td>\n      <td>12</td>\n      <td>0</td>\n      <td>...</td>\n      <td>1</td>\n      <td>Other</td>\n      <td>9</td>\n      <td>None</td>\n      <td>None</td>\n      <td>No</td>\n      <td>No</td>\n      <td>not readmitted</td>\n      <td>False</td>\n      <td>False</td>\n    </tr>\n    <tr>\n      <th>52111</th>\n      <td>Caucasian</td>\n      <td>Male</td>\n      <td>Over 60 years</td>\n      <td>Other</td>\n      <td>Other</td>\n      <td>5</td>\n      <td>29</td>\n      <td>3</td>\n      <td>21</td>\n      <td>1</td>\n      <td>...</td>\n      <td>0</td>\n      <td>Other</td>\n      <td>9</td>\n      <td>None</td>\n      <td>None</td>\n      <td>Steady</td>\n      <td>Yes</td>\n      <td>not readmitted</td>\n      <td>True</td>\n      <td>False</td>\n    </tr>\n    <tr>\n      <th>42567</th>\n      <td>Caucasian</td>\n      <td>Male</td>\n      <td>Over 60 years</td>\n      <td>Other</td>\n      <td>Other</td>\n      <td>7</td>\n      <td>50</td>\n      <td>1</td>\n      <td>15</td>\n      <td>0</td>\n      <td>...</td>\n      <td>0</td>\n      <td>Respitory Issues</td>\n      <td>8</td>\n      <td>None</td>\n      <td>None</td>\n      <td>Down</td>\n      <td>Yes</td>\n      <td>not readmitted</td>\n      <td>True</td>\n      <td>False</td>\n    </tr>\n    <tr>\n      <th>55713</th>\n      <td>AfricanAmerican</td>\n      <td>Male</td>\n      <td>Over 60 years</td>\n      <td>Discharged to Home</td>\n      <td>Other</td>\n      <td>3</td>\n      <td>46</td>\n      <td>2</td>\n      <td>18</td>\n      <td>0</td>\n      <td>...</td>\n      <td>1</td>\n      <td>Respitory Issues</td>\n      <td>9</td>\n      <td>None</td>\n      <td>None</td>\n      <td>Steady</td>\n      <td>Yes</td>\n      <td>not readmitted</td>\n      <td>True</td>\n      <td>False</td>\n    </tr>\n    <tr>\n      <th>60066</th>\n      <td>Other</td>\n      <td>Female</td>\n      <td>30-60 years</td>\n      <td>Discharged to Home</td>\n      <td>Other</td>\n      <td>3</td>\n      <td>1</td>\n      <td>0</td>\n      <td>4</td>\n      <td>1</td>\n      <td>...</td>\n      <td>1</td>\n      <td>Other</td>\n      <td>6</td>\n      <td>None</td>\n      <td>None</td>\n      <td>No</td>\n      <td>Yes</td>\n      <td>readmitted</td>\n      <td>False</td>\n      <td>False</td>\n    </tr>\n    <tr>\n      <th>...</th>\n      <td>...</td>\n      <td>...</td>\n      <td>...</td>\n      <td>...</td>\n      <td>...</td>\n      <td>...</td>\n      <td>...</td>\n      <td>...</td>\n      <td>...</td>\n      <td>...</td>\n      <td>...</td>\n      <td>...</td>\n      <td>...</td>\n      <td>...</td>\n      <td>...</td>\n      <td>...</td>\n      <td>...</td>\n      <td>...</td>\n      <td>...</td>\n      <td>...</td>\n      <td>...</td>\n    </tr>\n    <tr>\n      <th>35764</th>\n      <td>Caucasian</td>\n      <td>Female</td>\n      <td>Over 60 years</td>\n      <td>Discharged to Home</td>\n      <td>Other</td>\n      <td>2</td>\n      <td>64</td>\n      <td>0</td>\n      <td>10</td>\n      <td>0</td>\n      <td>...</td>\n      <td>1</td>\n      <td>Respitory Issues</td>\n      <td>5</td>\n      <td>None</td>\n      <td>Norm</td>\n      <td>Steady</td>\n      <td>Yes</td>\n      <td>not readmitted</td>\n      <td>False</td>\n      <td>False</td>\n    </tr>\n    <tr>\n      <th>46719</th>\n      <td>Caucasian</td>\n      <td>Female</td>\n      <td>Over 60 years</td>\n      <td>Discharged to Home</td>\n      <td>Other</td>\n      <td>7</td>\n      <td>65</td>\n      <td>0</td>\n      <td>19</td>\n      <td>0</td>\n      <td>...</td>\n      <td>0</td>\n      <td>Other</td>\n      <td>9</td>\n      <td>None</td>\n      <td>None</td>\n      <td>No</td>\n      <td>No</td>\n      <td>not readmitted</td>\n      <td>True</td>\n      <td>False</td>\n    </tr>\n    <tr>\n      <th>73613</th>\n      <td>Caucasian</td>\n      <td>Male</td>\n      <td>Over 60 years</td>\n      <td>Other</td>\n      <td>Other</td>\n      <td>10</td>\n      <td>50</td>\n      <td>0</td>\n      <td>25</td>\n      <td>0</td>\n      <td>...</td>\n      <td>0</td>\n      <td>Other</td>\n      <td>8</td>\n      <td>None</td>\n      <td>None</td>\n      <td>No</td>\n      <td>Yes</td>\n      <td>not readmitted</td>\n      <td>True</td>\n      <td>False</td>\n    </tr>\n    <tr>\n      <th>56143</th>\n      <td>AfricanAmerican</td>\n      <td>Male</td>\n      <td>Over 60 years</td>\n      <td>Discharged to Home</td>\n      <td>Other</td>\n      <td>2</td>\n      <td>31</td>\n      <td>0</td>\n      <td>10</td>\n      <td>0</td>\n      <td>...</td>\n      <td>0</td>\n      <td>Other</td>\n      <td>8</td>\n      <td>None</td>\n      <td>None</td>\n      <td>Steady</td>\n      <td>Yes</td>\n      <td>readmitted</td>\n      <td>True</td>\n      <td>False</td>\n    </tr>\n    <tr>\n      <th>80721</th>\n      <td>Caucasian</td>\n      <td>Female</td>\n      <td>30-60 years</td>\n      <td>Discharged to Home</td>\n      <td>Other</td>\n      <td>2</td>\n      <td>27</td>\n      <td>1</td>\n      <td>35</td>\n      <td>0</td>\n      <td>...</td>\n      <td>0</td>\n      <td>Diabetes</td>\n      <td>7</td>\n      <td>None</td>\n      <td>&gt;8</td>\n      <td>Steady</td>\n      <td>Yes</td>\n      <td>not readmitted</td>\n      <td>False</td>\n      <td>False</td>\n    </tr>\n  </tbody>\n</table>\n<p>2788 rows × 21 columns</p>\n</div>"
          },
          "metadata": {}
        }
      ],
      "execution_count": 10,
      "metadata": {
        "gather": {
          "logged": 1682024278078
        },
        "jupyter": {
          "outputs_hidden": false,
          "source_hidden": false
        },
        "nteract": {
          "transient": {
            "deleting": false
          }
        }
      }
    },
    {
      "cell_type": "code",
      "source": [
        "import os\n",
        "from azure.ai.ml.entities import Data\n",
        "from azure.ai.ml.constants import AssetTypes\n",
        "\n",
        "\n",
        "training_dataset_filename = 'hospital_train_parquet'\n",
        "testing_dataset_filename = 'hospital_test_parquet'\n",
        "\n",
        "\n",
        "training_data = Data(\n",
        "    name=training_dataset_filename,\n",
        "    path='data/training_data.parquet',\n",
        "    type=AssetTypes.URI_FILE,\n",
        "    description=\"RAI hospital  train data\",  \n",
        ")\n",
        "\n",
        "tr_data = ml_client.data.create_or_update(training_data)\n",
        "\n",
        "testing_data = Data(\n",
        "    name=testing_dataset_filename,\n",
        "    path='data/testing_data.parquet',\n",
        "    type=AssetTypes.URI_FILE,\n",
        "    description=\"RAI hospital  test data\",  \n",
        ")\n",
        "\n",
        "te_data = ml_client.data.create_or_update(testing_data)\n"
      ],
      "outputs": [],
      "execution_count": 11,
      "metadata": {
        "gather": {
          "logged": 1682024278686
        },
        "jupyter": {
          "outputs_hidden": false,
          "source_hidden": false
        },
        "nteract": {
          "transient": {
            "deleting": false
          }
        }
      }
    },
    {
      "cell_type": "code",
      "source": [
        "import os\n",
        "\n",
        "os.makedirs('component', exist_ok=True)\n",
        "os.makedirs('register_model_src', exist_ok=True)\n",
        "os.makedirs('environment', exist_ok=True)"
      ],
      "outputs": [],
      "execution_count": 12,
      "metadata": {
        "gather": {
          "logged": 1682024279169
        },
        "jupyter": {
          "outputs_hidden": false,
          "source_hidden": false
        },
        "nteract": {
          "transient": {
            "deleting": false
          }
        }
      }
    },
    {
      "cell_type": "code",
      "source": [
        "%%writefile component/hospital_training.py\n",
        "\n",
        "import argparse\n",
        "import os\n",
        "import shutil\n",
        "import tempfile\n",
        "\n",
        "from azureml.core import Run\n",
        "\n",
        "import mlflow\n",
        "import mlflow.sklearn\n",
        "\n",
        "import pandas as pd\n",
        "import numpy as np\n",
        "from sklearn.compose import make_column_selector as selector\n",
        "from sklearn.preprocessing import OneHotEncoder, OrdinalEncoder, StandardScaler\n",
        "from sklearn.compose import ColumnTransformer\n",
        "from sklearn.pipeline import Pipeline\n",
        "\n",
        "from sklearn.linear_model import LogisticRegression\n",
        "from sklearn.ensemble import RandomForestClassifier\n",
        "from sklearn.tree import DecisionTreeClassifier\n",
        "from sklearn.pipeline import make_pipeline\n",
        "from sklearn.model_selection import train_test_split\n",
        "\n",
        "\n",
        "\n",
        "def parse_args():\n",
        "    # setup arg parser\n",
        "    parser = argparse.ArgumentParser()\n",
        "\n",
        "    # add arguments\n",
        "    parser.add_argument(\"--training_data\", type=str, help=\"Path to training data\")\n",
        "    parser.add_argument(\"--target_column_name\", type=str, help=\"Name of target column\")\n",
        "    parser.add_argument(\"--model_output\", type=str, help=\"Path of output model\")\n",
        "\n",
        "    # parse args\n",
        "    args = parser.parse_args()    \n",
        "\n",
        "    # return args\n",
        "    return args\n",
        "\n",
        "def get_categorical_index(categorical_fields):\n",
        "    cat_idx = []\n",
        "    for col, value in categorical_fields.iteritems():\n",
        "        if value.dtype == 'object':\n",
        "            cat_idx.append(categorical_fields.columns.get_loc(col))\n",
        "    print(\"col indices: \", cat_idx)  \n",
        "    return cat_idx    \n",
        "\n",
        "\n",
        "\n",
        "def main(args):\n",
        "    current_experiment = Run.get_context().experiment\n",
        "    tracking_uri = current_experiment.workspace.get_mlflow_tracking_uri()\n",
        "    print(\"tracking_uri: {0}\".format(tracking_uri))\n",
        "    mlflow.set_tracking_uri(tracking_uri)\n",
        "    mlflow.set_experiment(current_experiment.name)\n",
        "\n",
        "    # Read in data\n",
        "    print(\"Reading data\")\n",
        "    all_training_data = pd.read_parquet(args.training_data)\n",
        "    target = all_training_data[args.target_column_name]\n",
        "    features = all_training_data.drop([args.target_column_name], axis = 1)  \n",
        "\n",
        "    # Transform string data to numeric\n",
        "    numerical_selector = selector(dtype_include=np.number)\n",
        "    categorical_selector = selector(dtype_exclude=np.number)\n",
        "\n",
        "    numerical_columns = numerical_selector(features)\n",
        "    categorical_columns = categorical_selector(features)\n",
        "\n",
        "    categorial_encoder = OneHotEncoder(handle_unknown=\"ignore\")\n",
        "    numerical_encoder = StandardScaler()\n",
        "\n",
        "    preprocessor = ColumnTransformer([\n",
        "    ('categorical-encoder', categorial_encoder, categorical_columns),\n",
        "    ('standard_scaler', numerical_encoder, numerical_columns)])\n",
        "\n",
        "    categorical_indices = get_categorical_index(features)\n",
        "    clf = make_pipeline(preprocessor, LogisticRegression())\n",
        "    \n",
        "\n",
        "    X_train, X_test, y_train, y_test = train_test_split(features, target, test_size=0.3, random_state=1)\n",
        "\n",
        "    print(\"Training model...\") \n",
        "    \n",
        "    model = clf.fit(X_train, y_train)\n",
        " \n",
        "    # Saving model with mlflow - leave this section unchanged\n",
        "    model_dir =  \"./model_output\"\n",
        "    with tempfile.TemporaryDirectory() as td:\n",
        "        print(\"Saving model with MLFlow to temporary directory\")\n",
        "        tmp_output_dir = os.path.join(td, model_dir)\n",
        "        mlflow.sklearn.save_model(sk_model=model, path=tmp_output_dir)\n",
        "\n",
        "        print(\"Copying MLFlow model to output path\")\n",
        "        for file_name in os.listdir(tmp_output_dir):\n",
        "            print(\"  Copying: \", file_name)\n",
        "            shutil.copy2(src=os.path.join(tmp_output_dir, file_name), dst=os.path.join(args.model_output, file_name))\n",
        "\n",
        "\n",
        "# run script\n",
        "if __name__ == \"__main__\":\n",
        "    # add space in logs\n",
        "    print(\"*\" * 60)\n",
        "    print(\"\\n\\n\")\n",
        "\n",
        "    # parse args\n",
        "    args = parse_args()\n",
        "\n",
        "    # run main function\n",
        "    main(args)\n",
        "\n",
        "    # add space in logs\n",
        "    print(\"*\" * 60)\n",
        "    print(\"\\n\\n\")"
      ],
      "outputs": [
        {
          "output_type": "stream",
          "name": "stdout",
          "text": "Overwriting component/hospital_training.py\n"
        }
      ],
      "execution_count": 13,
      "metadata": {
        "jupyter": {
          "outputs_hidden": false,
          "source_hidden": false
        },
        "nteract": {
          "transient": {
            "deleting": false
          }
        }
      }
    },
    {
      "cell_type": "code",
      "source": [
        "%%writefile register_model_src/model_register.py\n",
        "\n",
        "# ---------------------------------------------------------\n",
        "# Copyright (c) Microsoft Corporation. All rights reserved.\n",
        "# ---------------------------------------------------------\n",
        "\n",
        "import argparse\n",
        "import json\n",
        "import os\n",
        "import time\n",
        "\n",
        "\n",
        "from azureml.core import Run\n",
        "\n",
        "import mlflow\n",
        "import mlflow.sklearn\n",
        "\n",
        "# Based on example:\n",
        "# https://docs.microsoft.com/en-us/azure/machine-learning/how-to-train-cli\n",
        "# which references\n",
        "# https://github.com/Azure/azureml-examples/tree/main/cli/jobs/train/lightgbm/iris\n",
        "\n",
        "\n",
        "def parse_args():\n",
        "    # setup arg parser\n",
        "    parser = argparse.ArgumentParser()\n",
        "\n",
        "    # add arguments\n",
        "    parser.add_argument(\"--model_input_path\", type=str, help=\"Path to input model\")\n",
        "    parser.add_argument(\n",
        "        \"--model_info_output_path\", type=str, help=\"Path to write model info JSON\"\n",
        "    )\n",
        "    parser.add_argument(\n",
        "        \"--model_base_name\", type=str, help=\"Name of the registered model\"\n",
        "    )\n",
        "\n",
        "\n",
        "    # parse args\n",
        "    args = parser.parse_args()\n",
        "\n",
        "    # return args\n",
        "    return args\n",
        "\n",
        "\n",
        "def main(args):\n",
        "    current_experiment = Run.get_context().experiment\n",
        "    tracking_uri = current_experiment.workspace.get_mlflow_tracking_uri()\n",
        "    print(\"tracking_uri: {0}\".format(tracking_uri))\n",
        "    mlflow.set_tracking_uri(tracking_uri)\n",
        "    mlflow.set_experiment(current_experiment.name)\n",
        "\n",
        "    print(\"Loading model\")\n",
        "    mlflow_model = mlflow.sklearn.load_model(args.model_input_path)\n",
        "\n",
        "    registered_name = args.model_base_name\n",
        "    print(f\"Registering model as {registered_name}\")\n",
        "\n",
        "    print(\"Registering via MLFlow\")\n",
        "    mlflow.sklearn.log_model(\n",
        "        sk_model=mlflow_model,\n",
        "        registered_model_name=registered_name,\n",
        "        artifact_path=registered_name,\n",
        "    )\n",
        "\n",
        "    print(\"Writing JSON\")\n",
        "    dict = {\"id\": \"{0}:1\".format(registered_name)}\n",
        "    output_path = os.path.join(args.model_info_output_path, \"model_info.json\")\n",
        "    with open(output_path, \"w\") as of:\n",
        "        json.dump(dict, fp=of)\n",
        "\n",
        "\n",
        "# run script\n",
        "if __name__ == \"__main__\":\n",
        "    # add space in logs\n",
        "    print(\"*\" * 60)\n",
        "    print(\"\\n\\n\")\n",
        "\n",
        "    # parse args\n",
        "    args = parse_args()\n",
        "\n",
        "    # run main function\n",
        "    main(args)\n",
        "\n",
        "    # add space in logs\n",
        "    print(\"*\" * 60)\n",
        "    print(\"\\n\\n\")"
      ],
      "outputs": [
        {
          "output_type": "stream",
          "name": "stdout",
          "text": "Overwriting register_model_src/model_register.py\n"
        }
      ],
      "execution_count": 14,
      "metadata": {
        "jupyter": {
          "outputs_hidden": false,
          "source_hidden": false
        },
        "nteract": {
          "transient": {
            "deleting": false
          }
        }
      }
    },
    {
      "cell_type": "code",
      "source": [
        "from azure.ai.ml import load_component\n",
        "\n",
        "yaml_contents = f\"\"\"\n",
        "$schema: http://azureml/sdk-2-0/CommandComponent.json\n",
        "name: rai_training_component\n",
        "display_name: hospital  classification training component for RAI example\n",
        "version: {rai_hospital_version_string}\n",
        "type: command\n",
        "inputs:\n",
        "  training_data:\n",
        "    type: path\n",
        "  target_column_name:\n",
        "    type: string\n",
        "outputs:\n",
        "  model_output:\n",
        "    type: path\n",
        "code: ./component/\n",
        "environment: azureml://registries/azureml/environments/AzureML-responsibleai-0.20-ubuntu20.04-py38-cpu/versions/4\n",
        "\"\"\" + r\"\"\"\n",
        "command: >-\n",
        "  python hospital_training.py\n",
        "  --training_data ${{{{inputs.training_data}}}}\n",
        "  --target_column_name ${{{{inputs.target_column_name}}}}\n",
        "  --model_output ${{{{outputs.model_output}}}}\n",
        "\"\"\"\n",
        "\n",
        "yaml_filename = \"RAIhospitalClassificationTrainingComponent.yaml\"\n",
        "\n",
        "with open(yaml_filename, 'w') as f:\n",
        "    f.write(yaml_contents.format(yaml_contents))\n",
        "    \n",
        "train_component_definition = load_component(\n",
        "    source=yaml_filename\n",
        ")\n",
        "\n",
        "ml_client.components.create_or_update(train_component_definition)"
      ],
      "outputs": [
        {
          "output_type": "execute_result",
          "execution_count": 15,
          "data": {
            "text/plain": "CommandComponent({'auto_increment_version': False, 'source': 'REMOTE.WORKSPACE.COMPONENT', 'is_anonymous': False, 'name': 'rai_training_component', 'description': None, 'tags': {}, 'properties': {}, 'id': '/subscriptions/8a0f6419-1f4c-45b3-8d92-ee53be1ea443/resourceGroups/demoRG/providers/Microsoft.MachineLearningServices/workspaces/aml-ws/components/rai_training_component/versions/13', 'Resource__source_path': None, 'base_path': './', 'creation_context': <azure.ai.ml._restclient.v2022_05_01.models._models_py3.SystemData object at 0x7fba48512d90>, 'serialize': <msrest.serialization.Serializer object at 0x7fba4856a910>, 'command': 'python hospital_training.py --training_data ${{inputs.training_data}} --target_column_name ${{inputs.target_column_name}} --model_output ${{outputs.model_output}}', 'code': '/subscriptions/8a0f6419-1f4c-45b3-8d92-ee53be1ea443/resourceGroups/demoRG/providers/Microsoft.MachineLearningServices/workspaces/aml-ws/codes/2b04ca47-e160-4a6f-8345-dcc160a87ba8/versions/1', 'environment_variables': None, 'environment': 'azureml://registries/azureml/environments/AzureML-responsibleai-0.20-ubuntu20.04-py38-cpu/versions/4', 'distribution': None, 'resources': {'instance_count': 1, 'properties': {}}, 'version': '13', 'latest_version': None, 'schema': 'http://azureml/sdk-2-0/CommandComponent.json', 'type': 'command', 'display_name': 'hospital  classification training component for RAI example', 'is_deterministic': True, 'inputs': {'training_data': {'type': 'path'}, 'target_column_name': {'type': 'string'}}, 'outputs': {'model_output': {'type': 'path'}}, 'yaml_str': None, 'other_parameter': {}, 'func': <function [component] hospital  classification training component for RAI example at 0x7fba485579d0>})"
          },
          "metadata": {}
        }
      ],
      "execution_count": 15,
      "metadata": {
        "gather": {
          "logged": 1682024280547
        },
        "scrolled": true
      }
    },
    {
      "cell_type": "code",
      "source": [
        "yaml_contents = f\"\"\"\n",
        "$schema: http://azureml/sdk-2-0/CommandComponent.json\n",
        "name: register_trained_model\n",
        "display_name: Register hospital Model\n",
        "version: {rai_hospital_version_string}\n",
        "type: command\n",
        "is_deterministic: False\n",
        "inputs:\n",
        "  model_input_path:\n",
        "    type: path\n",
        "  model_base_name:\n",
        "    type: string\n",
        "outputs:\n",
        "  model_info_output_path:\n",
        "    type: path\n",
        "code: ./register_model_src/\n",
        "environment: azureml://registries/azureml/environments/AzureML-responsibleai-0.20-ubuntu20.04-py38-cpu/versions/4\n",
        "command: >-\n",
        "  python model_register.py\n",
        "  --model_input_path ${{{{inputs.model_input_path}}}}\n",
        "  --model_base_name ${{{{inputs.model_base_name}}}}\n",
        "  --model_info_output_path ${{{{outputs.model_info_output_path}}}}\n",
        "\n",
        "\"\"\"\n",
        "yaml_filename = \"model_register.yaml\"\n",
        "\n",
        "with open(yaml_filename, 'w') as f:\n",
        "    f.write(yaml_contents)\n",
        "    \n",
        "register_component = load_component(\n",
        "    source=yaml_filename\n",
        ")\n",
        "\n",
        "ml_client.components.create_or_update(register_component)"
      ],
      "outputs": [
        {
          "output_type": "execute_result",
          "execution_count": 16,
          "data": {
            "text/plain": "CommandComponent({'auto_increment_version': False, 'source': 'REMOTE.WORKSPACE.COMPONENT', 'is_anonymous': False, 'name': 'register_trained_model', 'description': None, 'tags': {}, 'properties': {}, 'id': '/subscriptions/8a0f6419-1f4c-45b3-8d92-ee53be1ea443/resourceGroups/demoRG/providers/Microsoft.MachineLearningServices/workspaces/aml-ws/components/register_trained_model/versions/13', 'Resource__source_path': None, 'base_path': './', 'creation_context': <azure.ai.ml._restclient.v2022_05_01.models._models_py3.SystemData object at 0x7fba484e5370>, 'serialize': <msrest.serialization.Serializer object at 0x7fba484cd1c0>, 'command': 'python model_register.py --model_input_path ${{inputs.model_input_path}} --model_base_name ${{inputs.model_base_name}} --model_info_output_path ${{outputs.model_info_output_path}}', 'code': '/subscriptions/8a0f6419-1f4c-45b3-8d92-ee53be1ea443/resourceGroups/demoRG/providers/Microsoft.MachineLearningServices/workspaces/aml-ws/codes/9047cb19-1cde-428f-b03c-ed4632406c87/versions/1', 'environment_variables': None, 'environment': 'azureml://registries/azureml/environments/AzureML-responsibleai-0.20-ubuntu20.04-py38-cpu/versions/4', 'distribution': None, 'resources': {'instance_count': 1, 'properties': {}}, 'version': '13', 'latest_version': None, 'schema': 'http://azureml/sdk-2-0/CommandComponent.json', 'type': 'command', 'display_name': 'Register hospital Model', 'is_deterministic': False, 'inputs': {'model_input_path': {'type': 'path'}, 'model_base_name': {'type': 'string'}}, 'outputs': {'model_info_output_path': {'type': 'path'}}, 'yaml_str': None, 'other_parameter': {}, 'func': <function [component] Register hospital Model at 0x7fba4851e310>})"
          },
          "metadata": {}
        }
      ],
      "execution_count": 16,
      "metadata": {
        "gather": {
          "logged": 1682024281039
        },
        "jupyter": {
          "outputs_hidden": false,
          "source_hidden": false
        },
        "nteract": {
          "transient": {
            "deleting": false
          }
        }
      }
    },
    {
      "cell_type": "code",
      "source": [
        "import time\n",
        "\n",
        "model_base_name = 'rai_hospital_model'"
      ],
      "outputs": [],
      "execution_count": 17,
      "metadata": {
        "gather": {
          "logged": 1682024281521
        },
        "jupyter": {
          "outputs_hidden": false,
          "source_hidden": false
        },
        "nteract": {
          "transient": {
            "deleting": false
          }
        }
      }
    },
    {
      "cell_type": "code",
      "source": [
        "from azure.ai.ml import dsl, Input\n",
        "\n",
        "\n",
        "hospital_train_parquet = Input(\n",
        "    type=\"uri_file\", path=\"data/training_data.parquet\", mode=\"download\"\n",
        ")\n",
        "\n",
        "hospital_test_parquet = Input(\n",
        "    type=\"uri_file\", path=\"data/testing_data.parquet\", mode=\"download\"\n",
        ")\n",
        "\n",
        "@dsl.pipeline(\n",
        "    compute=compute_name,\n",
        "    description=\"Register Model for RAI hospital \",\n",
        "    experiment_name=f\"RAI_hospital_Model_Training_{rai_hospital_version_string}\",\n",
        ")\n",
        "def my_training_pipeline(target_column_name, training_data):\n",
        "    trained_model = train_component_definition(\n",
        "        target_column_name=target_column_name,\n",
        "        training_data=training_data\n",
        "    )\n",
        "    trained_model.set_limits(timeout=120)\n",
        "\n",
        "    _ = register_component(\n",
        "        model_input_path=trained_model.outputs.model_output,\n",
        "        model_base_name=model_base_name,\n",
        "    )\n",
        "\n",
        "    return {}\n",
        "\n",
        "model_registration_pipeline_job = my_training_pipeline(target_column, hospital_train_parquet)"
      ],
      "outputs": [],
      "execution_count": 18,
      "metadata": {
        "gather": {
          "logged": 1682024281884
        },
        "jupyter": {
          "outputs_hidden": false,
          "source_hidden": false
        },
        "nteract": {
          "transient": {
            "deleting": false
          }
        }
      }
    },
    {
      "cell_type": "code",
      "source": [
        "from azure.ai.ml.entities import PipelineJob\n",
        "import webbrowser\n",
        "\n",
        "def submit_and_wait(ml_client, pipeline_job) -> PipelineJob:\n",
        "    created_job = ml_client.jobs.create_or_update(pipeline_job)\n",
        "    assert created_job is not None\n",
        "\n",
        "    while created_job.status not in ['Completed', 'Failed', 'Canceled', 'NotResponding']:\n",
        "        time.sleep(30)\n",
        "        created_job = ml_client.jobs.get(created_job.name)\n",
        "        print(\"Latest status : {0}\".format(created_job.status))\n",
        "\n",
        "\n",
        "    # open the pipeline in web browser\n",
        "    webbrowser.open(created_job.services[\"Studio\"].endpoint)\n",
        "    \n",
        "    #assert created_job.status == 'Completed'\n",
        "    return created_job\n",
        "\n",
        "# This is the actual submission\n",
        "training_job = submit_and_wait(ml_client, model_registration_pipeline_job)"
      ],
      "outputs": [
        {
          "output_type": "stream",
          "name": "stdout",
          "text": "Latest status : Running\nLatest status : Running\nLatest status : Completed\n"
        }
      ],
      "execution_count": 19,
      "metadata": {
        "gather": {
          "logged": 1682024375537
        },
        "jupyter": {
          "outputs_hidden": false,
          "source_hidden": false
        },
        "nteract": {
          "transient": {
            "deleting": false
          }
        }
      }
    }
  ],
  "metadata": {
    "kernel_info": {
      "name": "python3"
    },
    "kernelspec": {
      "name": "python3",
      "language": "python",
      "display_name": "Python 3 (ipykernel)"
    },
    "language_info": {
      "name": "python",
      "version": "3.8.5",
      "mimetype": "text/x-python",
      "codemirror_mode": {
        "name": "ipython",
        "version": 3
      },
      "pygments_lexer": "ipython3",
      "nbconvert_exporter": "python",
      "file_extension": ".py"
    },
    "microsoft": {
      "host": {
        "AzureML": {
          "notebookHasBeenCompleted": true
        }
      },
      "ms_spell_check": {
        "ms_spell_check_language": "en"
      }
    },
    "nteract": {
      "version": "nteract-front-end@1.0.0"
    }
  },
  "nbformat": 4,
  "nbformat_minor": 1
}